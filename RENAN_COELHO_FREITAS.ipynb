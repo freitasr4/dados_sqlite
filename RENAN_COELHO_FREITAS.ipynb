{
 "cells": [
  {
   "cell_type": "markdown",
   "metadata": {},
   "source": [
    "# Exercícios Módulo 5. Bases de dados com SQLite (Soluções)\n",
    "\n",
    "Considerações a ter em conta:\n",
    "\n",
    "* Guardar este documento com o seguinte formato para entrega: M5_04_nome_apelido1_apelido2\n",
    "* Fazer os exercícios com as ferramentas vistas nas sessões. \n",
    "* Comentar o código\n",
    "* Utilizar nomes de variáveis apropriados, se vai guardar uma nota, chamar a essa variável nota, não n ou x"
   ]
  },
  {
   "cell_type": "markdown",
   "metadata": {},
   "source": [
    "**1) Praticar um pouco com SQLite:**\n",
    "\n",
    "* Criar uma base de dados que se chame biblioteca\n",
    "* Criar as seguintes tabelas (deverá colocar os tipos dos atributos com lógica, investigar quais há em SQLite para o poder fazer): \n",
    " * autor(bi, nome, apelidos, estarVivo)\n",
    "     * em bi pode colocar um número aleatório\n",
    " * livro(isbn, título, editorial, ano_escrito)  \n",
    "     * isnb = International Standard Book Number - Pode colocar um número aleatório\n",
    " * utilizador(bi, nome, apelidos, numEmpréstimos)\n",
    "     * em bi pode colocar um número aleatório\n",
    "* Inserir pelo menos 3 registos em cada uma das tabelas \n",
    " * Em autor, alguns vivos e outros mortos\n",
    " * Em livro, alguns com ano de escritura anterior a 1900 e outros depois \n",
    " * Em utilizador, alguns com mais de 10 empréstimos e outros com menos\n",
    "* Comprovar que tudo está correto com **DB Browser (SQLite)** \n",
    "* Fazer as seguintes consultas:\n",
    " * Listar a todos os autores \n",
    " * Listar todos os livros \n",
    " * Listar todos os utilizadores\n",
    " * Listar todos os autores que estejam vivos (CLAUSULA WHERE)\n",
    " * Listar todos os livros que tenham sido escritos posteriormente a 1900\n",
    " * Listar todos os utilizadores que se tenham levado mais de 10 livros e filtrar pelo nome\n",
    "\n"
   ]
  },
  {
   "cell_type": "code",
   "execution_count": 2,
   "metadata": {},
   "outputs": [],
   "source": [
    "import sqlite3"
   ]
  },
  {
   "cell_type": "code",
   "execution_count": 3,
   "metadata": {},
   "outputs": [],
   "source": [
    "conn = sqlite3.connect('biblioteca.db')"
   ]
  },
  {
   "cell_type": "code",
   "execution_count": 4,
   "metadata": {},
   "outputs": [],
   "source": [
    "cur = conn.cursor()"
   ]
  },
  {
   "cell_type": "code",
   "execution_count": 5,
   "metadata": {},
   "outputs": [
    {
     "data": {
      "text/plain": [
       "<sqlite3.Cursor at 0x1cb4907dc40>"
      ]
     },
     "execution_count": 5,
     "metadata": {},
     "output_type": "execute_result"
    }
   ],
   "source": [
    "cur.execute('''CREATE TABLE autor\n",
    "               (bi INTEGER PRIMARY KEY,\n",
    "                nome TEXT,\n",
    "                apelidos TEXT,\n",
    "                estarVivo BOOLEAN)''')"
   ]
  },
  {
   "cell_type": "code",
   "execution_count": 6,
   "metadata": {},
   "outputs": [
    {
     "data": {
      "text/plain": [
       "<sqlite3.Cursor at 0x1cb4907dc40>"
      ]
     },
     "execution_count": 6,
     "metadata": {},
     "output_type": "execute_result"
    }
   ],
   "source": [
    "cur.execute('''CREATE TABLE livro\n",
    "               (isbn TEXT PRIMARY KEY,\n",
    "                título TEXT,\n",
    "                editorial TEXT,\n",
    "                ano_escrito INTEGER)''')"
   ]
  },
  {
   "cell_type": "code",
   "execution_count": 7,
   "metadata": {},
   "outputs": [
    {
     "data": {
      "text/plain": [
       "<sqlite3.Cursor at 0x1cb4907dc40>"
      ]
     },
     "execution_count": 7,
     "metadata": {},
     "output_type": "execute_result"
    }
   ],
   "source": [
    "cur.execute('''CREATE TABLE utilizador\n",
    "               (bi INTEGER PRIMARY KEY,\n",
    "                nome TEXT,\n",
    "                apelidos TEXT,\n",
    "                numEmpréstimos INTEGER)''')"
   ]
  },
  {
   "cell_type": "code",
   "execution_count": 8,
   "metadata": {},
   "outputs": [
    {
     "data": {
      "text/plain": [
       "<sqlite3.Cursor at 0x1cb4907dc40>"
      ]
     },
     "execution_count": 8,
     "metadata": {},
     "output_type": "execute_result"
    }
   ],
   "source": [
    "cur.execute(\"INSERT INTO autor VALUES (1, 'Machado', 'de Assis', 0)\")\n",
    "cur.execute(\"INSERT INTO autor VALUES (2, 'Agatha', 'Christie', 1)\")\n",
    "cur.execute(\"INSERT INTO autor VALUES (3, 'Gabriel', 'García Márquez', 0)\")\n",
    "cur.execute(\"INSERT INTO livro VALUES ('978-8-57-328926-0', 'Dom Casmurro', 'Livraria Garnier', 1899)\")\n",
    "cur.execute(\"INSERT INTO livro VALUES ('978-0-06-072255-8', 'Assassinato no Expresso Oriente', 'Collins Crime Club', 1934)\")\n",
    "cur.execute(\"INSERT INTO livro VALUES ('978-0-07-602961-7', 'Cem Anos de Solidão', 'Casa de las Américas', 1967)\")\n",
    "cur.execute(\"INSERT INTO utilizador VALUES (101, 'João', 'Silva', 5)\")\n",
    "cur.execute(\"INSERT INTO utilizador VALUES (102, 'Maria', 'Santos', 15)\")\n",
    "cur.execute(\"INSERT INTO utilizador VALUES (103, 'Pedro', 'Fernandes', 8)\")"
   ]
  },
  {
   "cell_type": "code",
   "execution_count": 9,
   "metadata": {},
   "outputs": [],
   "source": [
    "conn.commit()\n",
    "conn.close()"
   ]
  },
  {
   "cell_type": "code",
   "execution_count": 10,
   "metadata": {},
   "outputs": [],
   "source": [
    "conn = sqlite3.connect('biblioteca.db')\n",
    "cur = conn.cursor()"
   ]
  },
  {
   "cell_type": "code",
   "execution_count": 11,
   "metadata": {},
   "outputs": [
    {
     "name": "stdout",
     "output_type": "stream",
     "text": [
      "Autores:\n",
      "(1, 'Machado', 'de Assis', 0)\n",
      "(2, 'Agatha', 'Christie', 1)\n",
      "(3, 'Gabriel', 'García Márquez', 0)\n"
     ]
    }
   ],
   "source": [
    "cur.execute(\"SELECT * FROM autor\")\n",
    "print(\"Autores:\")\n",
    "for row in cur.fetchall():\n",
    "    print(row)"
   ]
  },
  {
   "cell_type": "code",
   "execution_count": 12,
   "metadata": {},
   "outputs": [
    {
     "name": "stdout",
     "output_type": "stream",
     "text": [
      "\n",
      "Livros:\n",
      "('978-8-57-328926-0', 'Dom Casmurro', 'Livraria Garnier', 1899)\n",
      "('978-0-06-072255-8', 'Assassinato no Expresso Oriente', 'Collins Crime Club', 1934)\n",
      "('978-0-07-602961-7', 'Cem Anos de Solidão', 'Casa de las Américas', 1967)\n"
     ]
    }
   ],
   "source": [
    "cur.execute(\"SELECT * FROM livro\")\n",
    "print(\"\\nLivros:\")\n",
    "for row in cur.fetchall():\n",
    "    print(row)"
   ]
  },
  {
   "cell_type": "code",
   "execution_count": 13,
   "metadata": {},
   "outputs": [
    {
     "name": "stdout",
     "output_type": "stream",
     "text": [
      "\n",
      "Utilizadores:\n",
      "(101, 'João', 'Silva', 5)\n",
      "(102, 'Maria', 'Santos', 15)\n",
      "(103, 'Pedro', 'Fernandes', 8)\n"
     ]
    }
   ],
   "source": [
    "cur.execute(\"SELECT * FROM utilizador\")\n",
    "print(\"\\nUtilizadores:\")\n",
    "for row in cur.fetchall():\n",
    "    print(row)"
   ]
  },
  {
   "cell_type": "code",
   "execution_count": 14,
   "metadata": {},
   "outputs": [
    {
     "name": "stdout",
     "output_type": "stream",
     "text": [
      "\n",
      "Autores vivos:\n",
      "(2, 'Agatha', 'Christie', 1)\n"
     ]
    }
   ],
   "source": [
    "cur.execute(\"SELECT * FROM autor WHERE estarVivo = 1\")\n",
    "print(\"\\nAutores vivos:\")\n",
    "for row in cur.fetchall():\n",
    "    print(row)"
   ]
  },
  {
   "cell_type": "code",
   "execution_count": 15,
   "metadata": {},
   "outputs": [
    {
     "name": "stdout",
     "output_type": "stream",
     "text": [
      "\n",
      "Livros escritos após 1900:\n",
      "('978-0-06-072255-8', 'Assassinato no Expresso Oriente', 'Collins Crime Club', 1934)\n",
      "('978-0-07-602961-7', 'Cem Anos de Solidão', 'Casa de las Américas', 1967)\n"
     ]
    }
   ],
   "source": [
    "cur.execute(\"SELECT * FROM livro WHERE ano_escrito > 1900\")\n",
    "print(\"\\nLivros escritos após 1900:\")\n",
    "for row in cur.fetchall():\n",
    "    print(row)\n"
   ]
  },
  {
   "cell_type": "code",
   "execution_count": 16,
   "metadata": {},
   "outputs": [
    {
     "name": "stdout",
     "output_type": "stream",
     "text": [
      "\n",
      "Utilizadores com mais de 10 empréstimos:\n",
      "(102, 'Maria', 'Santos', 15)\n"
     ]
    }
   ],
   "source": [
    "cur.execute(\"SELECT * FROM utilizador WHERE numEmpréstimos > 10\")\n",
    "print(\"\\nUtilizadores com mais de 10 empréstimos:\")\n",
    "for row in cur.fetchall():\n",
    "    print(row)"
   ]
  },
  {
   "cell_type": "code",
   "execution_count": 17,
   "metadata": {},
   "outputs": [],
   "source": [
    "conn.close()"
   ]
  },
  {
   "cell_type": "code",
   "execution_count": null,
   "metadata": {},
   "outputs": [],
   "source": []
  }
 ],
 "metadata": {
  "anaconda-cloud": {},
  "kernelspec": {
   "display_name": "Python 3 (ipykernel)",
   "language": "python",
   "name": "python3"
  },
  "language_info": {
   "codemirror_mode": {
    "name": "ipython",
    "version": 3
   },
   "file_extension": ".py",
   "mimetype": "text/x-python",
   "name": "python",
   "nbconvert_exporter": "python",
   "pygments_lexer": "ipython3",
   "version": "3.10.9"
  }
 },
 "nbformat": 4,
 "nbformat_minor": 1
}
